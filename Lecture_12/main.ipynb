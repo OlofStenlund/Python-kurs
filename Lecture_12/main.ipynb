{
 "cells": [
  {
   "cell_type": "code",
   "execution_count": null,
   "metadata": {},
   "outputs": [],
   "source": [
    "import pandas as pd\n",
    "import numpy as np"
   ]
  },
  {
   "attachments": {},
   "cell_type": "markdown",
   "metadata": {},
   "source": [
    "## Numpy\n"
   ]
  },
  {
   "cell_type": "code",
   "execution_count": null,
   "metadata": {},
   "outputs": [],
   "source": [
    "lst = [1, 2, 3, 4, 5]\n",
    "print(lst)\n",
    "arr = np.array([1, 2, 3, 4, 5])\n",
    "arr"
   ]
  },
  {
   "attachments": {},
   "cell_type": "markdown",
   "metadata": {},
   "source": [
    "# a list can contain several data types\n",
    "# if an array contains a string, all elements will be turned into strings\n",
    "# Numpy is written in C, which is a lot faster than python\n",
    "# Therefore, working in Nympy will be quicker than just working in python\n",
    "# The limitations from C is the reason an array can only contain one data type"
   ]
  },
  {
   "cell_type": "code",
   "execution_count": null,
   "metadata": {},
   "outputs": [],
   "source": [
    "arr1 = np.array([1, 2, 3, 4])\n",
    "arr2 = np.array([1, 2, 3, 4, \"hej\"])\n",
    "print(arr1.dtype) # int\n",
    "print(arr2.dtype) # str"
   ]
  },
  {
   "attachments": {},
   "cell_type": "markdown",
   "metadata": {},
   "source": [
    "# .dtype to learn what the data type is"
   ]
  },
  {
   "cell_type": "code",
   "execution_count": null,
   "metadata": {},
   "outputs": [],
   "source": [
    "arr = np.array([1, 2, 3, 4], dtype=np.float32)\n",
    "print(arr)\n",
    "print(arr.dtype)"
   ]
  },
  {
   "attachments": {},
   "cell_type": "markdown",
   "metadata": {},
   "source": [
    "# You can set the datatype by using dtype=np.datatype"
   ]
  },
  {
   "cell_type": "code",
   "execution_count": null,
   "metadata": {},
   "outputs": [],
   "source": [
    "lst1 = [1, 2, 3, 4, 5]\n",
    "arr1 = (lst1)\n",
    "print(arr1)\n",
    "# an array can take a list, so we can just add list to the array variable"
   ]
  },
  {
   "attachments": {},
   "cell_type": "markdown",
   "metadata": {},
   "source": [
    "### Built in functions to create arrays\n",
    "multidimensional, ie arrays of arrays\n"
   ]
  },
  {
   "cell_type": "code",
   "execution_count": null,
   "metadata": {},
   "outputs": [],
   "source": [
    "ones_array = np.ones(9, dtype=np.int64)\n",
    "ones_array\n",
    "\n",
    "ones_twodimensional = np.ones((9, 3), dtype=np.int64)\n",
    "ones_twodimensional\n",
    "ones_twodimensional.shape\n",
    "ones_twodimensional = ones_twodimensional.reshape(3,9)\n",
    "print(ones_twodimensional)"
   ]
  },
  {
   "attachments": {},
   "cell_type": "markdown",
   "metadata": {},
   "source": [
    "First array is one dimensional, prints a 1, 9 times\n",
    "Second array is two dimesional, prints 3 ones, 9 times. 9 Rows, 3 columns\n",
    "9, 3 is called a shape.\n",
    "Reshape using i = i.reshape(x, x). Must retain the number of values"
   ]
  },
  {
   "cell_type": "code",
   "execution_count": null,
   "metadata": {},
   "outputs": [],
   "source": [
    "ones_twodimensional[0] = 0\n",
    "ones_twodimensional[1] = 1\n",
    "ones_twodimensional[2] = 2\n",
    "ones_twodimensional"
   ]
  },
  {
   "attachments": {},
   "cell_type": "markdown",
   "metadata": {},
   "source": [
    "ones_twodimensional has three rows. We can assign each row a values\n"
   ]
  },
  {
   "cell_type": "code",
   "execution_count": null,
   "metadata": {},
   "outputs": [],
   "source": [
    "ones_twodimensional[0] = range(1, 10)\n",
    "ones_twodimensional[1] = range(10, 19)\n",
    "ones_twodimensional[2] = range(19, 28)\n",
    "print(ones_twodimensional[0:3]) # Up to, but not including\n",
    "print(ones_twodimensional[:,3]) # Only shows column 3\n",
    "print(ones_twodimensional[:,0:3]) # Shows column 0:3\n",
    "print(ones_twodimensional[0:3,0:2])"
   ]
  },
  {
   "attachments": {},
   "cell_type": "markdown",
   "metadata": {},
   "source": [
    "[0:3] shows from and including 0, up to but now including 3\n",
    "[0:3, 0:3] show row 0-2, column 0-2"
   ]
  },
  {
   "cell_type": "code",
   "execution_count": null,
   "metadata": {},
   "outputs": [],
   "source": [
    "range_array = np.arange(42) # Forms an array of 42 items\n",
    "range_array = range_array.reshape(2, 21) # Reshape into two rows, 21 columns\n",
    "print(range_array)"
   ]
  },
  {
   "cell_type": "code",
   "execution_count": null,
   "metadata": {},
   "outputs": [],
   "source": [
    "array1 = np.array([1, 2, 3, 4, 5, 6, 7, 8, 9, 10])\n",
    "print(array1.prod())\n",
    "print(array1.max())\n",
    "print(array1.min())\n",
    "print(array1.sum())\n",
    "print(array1.argsort())"
   ]
  },
  {
   "cell_type": "code",
   "execution_count": null,
   "metadata": {},
   "outputs": [],
   "source": [
    "array2 = np.arange(48).reshape(4,12)\n",
    "print(array2)\n",
    "print(array2.sum(axis=0)) # axis=0 gives the columns\n",
    "print(array2.sum(axis=1)) # axis=1 gives the rows\n",
    "print(array2.min(axis=1)) # Finds the lowes number in each row\n",
    "print(array2.max(axis=0)) # Finds the highest number in each column\n",
    "arrmax = array2.max(axis=1) \n",
    "print(arrmax.prod()) # Multiplies the highest numbers in each row\n",
    "prodd = array2.cumprod(axis=0) # cumprod with axis 0 multiplies by column. First row qith second row with third row, ans so on:\n",
    "# [0,0] * [1,0] * [2,0] * [3,0] etc.\n",
    "# [0,1] * [1,1] * [2,1] * [3,1] etc\n",
    "# cumprod axis=1 multiplies by row, first column with second column, with third column, and so on\n",
    "for i in prodd:\n",
    "    print(i)"
   ]
  },
  {
   "attachments": {},
   "cell_type": "markdown",
   "metadata": {},
   "source": [
    "## Pandas"
   ]
  }
 ],
 "metadata": {
  "kernelspec": {
   "display_name": "Python 3",
   "language": "python",
   "name": "python3"
  },
  "language_info": {
   "codemirror_mode": {
    "name": "ipython",
    "version": 3
   },
   "file_extension": ".py",
   "mimetype": "text/x-python",
   "name": "python",
   "nbconvert_exporter": "python",
   "pygments_lexer": "ipython3",
   "version": "3.11.1"
  },
  "orig_nbformat": 4,
  "vscode": {
   "interpreter": {
    "hash": "6a56efbe40611e956b2f090cd096d9da461481b04fe224282454dcb3b643ede1"
   }
  }
 },
 "nbformat": 4,
 "nbformat_minor": 2
}
